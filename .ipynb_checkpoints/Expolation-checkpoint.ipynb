{
 "cells": [
  {
   "cell_type": "code",
   "execution_count": 2,
   "metadata": {
    "colab": {
     "base_uri": "https://localhost:8080/",
     "height": 34
    },
    "colab_type": "code",
    "id": "R0Im3F2d5FX7",
    "outputId": "a37070ec-9a2d-4cdd-e3fd-fbba036e17be"
   },
   "outputs": [],
   "source": [
    "import numpy as np # linear algebra\n",
    "import pandas as pd # data processing, CSV file I/O (e.g. pd.read_csv)\n",
    "\n",
    "import os\n",
    "from sklearn import preprocessing\n",
    "from matplotlib import pyplot as plt\n",
    "from matplotlib import style\n",
    "dataGold = pd.read_csv('gold.csv', parse_dates=['Date'], index_col='Date')"
   ]
  },
  {
   "cell_type": "code",
   "execution_count": 3,
   "metadata": {
    "colab": {
     "base_uri": "https://localhost:8080/",
     "height": 34
    },
    "colab_type": "code",
    "id": "uwF927775FYD",
    "outputId": "d7862d00-6987-4f7e-ba4e-b2523edc4bf3"
   },
   "outputs": [
    {
     "name": "stdout",
     "output_type": "stream",
     "text": [
      "Index(['Gold'], dtype='object')\n"
     ]
    }
   ],
   "source": [
    "print(dataGold.columns)"
   ]
  },
  {
   "cell_type": "code",
   "execution_count": 4,
   "metadata": {
    "colab": {},
    "colab_type": "code",
    "id": "3b16NL7T5FYI"
   },
   "outputs": [],
   "source": [
    "dataSP = pd.read_csv('NuiSP.csv',parse_dates=['Date'], index_col='Date')\n",
    "dataUSD = pd.read_csv('euro-dollar.csv',parse_dates=['Date'], index_col='Date')\n",
    "dataSil = pd.read_csv('silver.csv',parse_dates=['Date'], index_col='Date')"
   ]
  },
  {
   "cell_type": "code",
   "execution_count": 5,
   "metadata": {
    "colab": {
     "base_uri": "https://localhost:8080/",
     "height": 34
    },
    "colab_type": "code",
    "id": "nXMKLu-w5FYQ",
    "outputId": "3fab8861-f0e2-4bbc-d5b3-ff83f2b2d481"
   },
   "outputs": [
    {
     "name": "stdout",
     "output_type": "stream",
     "text": [
      "Index(['EU-USD'], dtype='object')\n"
     ]
    }
   ],
   "source": [
    "print(dataUSD.columns)"
   ]
  },
  {
   "cell_type": "code",
   "execution_count": 6,
   "metadata": {
    "colab": {},
    "colab_type": "code",
    "id": "qpKu0GA05FYV"
   },
   "outputs": [],
   "source": [
    "dataDJIA = pd.read_csv('DJIA.csv',parse_dates=['Date'], index_col='Date')\n",
    "dataGas = pd.read_csv('Gas.csv',parse_dates=['Date'], index_col='Date')"
   ]
  },
  {
   "cell_type": "code",
   "execution_count": 0,
   "metadata": {
    "colab": {
     "base_uri": "https://localhost:8080/",
     "height": 34
    },
    "colab_type": "code",
    "id": "VmOm1mVm5FYZ",
    "outputId": "f49b5007-04bb-46a5-ce0b-c42a4d5c6709"
   },
   "outputs": [
    {
     "name": "stdout",
     "output_type": "stream",
     "text": [
      "Index(['RegAll', 'RegConvention'], dtype='object')\n"
     ]
    }
   ],
   "source": [
    "print(dataGas.columns)"
   ]
  },
  {
   "cell_type": "code",
   "execution_count": 0,
   "metadata": {
    "colab": {},
    "colab_type": "code",
    "id": "miVOrHIw5FYf"
   },
   "outputs": [],
   "source": [
    "merge = pd.merge(dataGold,dataUSD,on = 'Date',how = 'outer')\n",
    "merge = pd.merge(merge, dataDJIA,on = 'Date', how = 'outer')\n",
    "merge = pd.merge(merge, dataGas,on = 'Date', how = 'outer')\n",
    "merge = pd.merge(merge, dataSP,on = 'Date', how = 'outer')\n",
    "merge = pd.merge(merge, dataSil,on = 'Date', how = 'outer')"
   ]
  },
  {
   "cell_type": "code",
   "execution_count": 0,
   "metadata": {
    "colab": {
     "base_uri": "https://localhost:8080/",
     "height": 450
    },
    "colab_type": "code",
    "id": "1JAs1_SA5FYl",
    "outputId": "d00249f7-18fd-4b61-fc9d-d14e438a7353"
   },
   "outputs": [
    {
     "data": {
      "text/html": [
       "<div>\n",
       "<style scoped>\n",
       "    .dataframe tbody tr th:only-of-type {\n",
       "        vertical-align: middle;\n",
       "    }\n",
       "\n",
       "    .dataframe tbody tr th {\n",
       "        vertical-align: top;\n",
       "    }\n",
       "\n",
       "    .dataframe thead th {\n",
       "        text-align: right;\n",
       "    }\n",
       "</style>\n",
       "<table border=\"1\" class=\"dataframe\">\n",
       "  <thead>\n",
       "    <tr style=\"text-align: right;\">\n",
       "      <th></th>\n",
       "      <th>Gold</th>\n",
       "      <th>EU-USD</th>\n",
       "      <th>DJIAOpen</th>\n",
       "      <th>DJIAHigh</th>\n",
       "      <th>DJIALow</th>\n",
       "      <th>DJIAClose</th>\n",
       "      <th>RegAll</th>\n",
       "      <th>RegConvention</th>\n",
       "      <th>SP</th>\n",
       "      <th>realSil</th>\n",
       "      <th>nomSil</th>\n",
       "    </tr>\n",
       "    <tr>\n",
       "      <th>Date</th>\n",
       "      <th></th>\n",
       "      <th></th>\n",
       "      <th></th>\n",
       "      <th></th>\n",
       "      <th></th>\n",
       "      <th></th>\n",
       "      <th></th>\n",
       "      <th></th>\n",
       "      <th></th>\n",
       "      <th></th>\n",
       "      <th></th>\n",
       "    </tr>\n",
       "  </thead>\n",
       "  <tbody>\n",
       "    <tr>\n",
       "      <th>2020-03-27</th>\n",
       "      <td>1621.20</td>\n",
       "      <td>1.1167</td>\n",
       "      <td>21898.47</td>\n",
       "      <td>22327.57</td>\n",
       "      <td>21469.27</td>\n",
       "      <td>21636.78</td>\n",
       "      <td>NaN</td>\n",
       "      <td>NaN</td>\n",
       "      <td>NaN</td>\n",
       "      <td>NaN</td>\n",
       "      <td>NaN</td>\n",
       "    </tr>\n",
       "    <tr>\n",
       "      <th>2020-03-26</th>\n",
       "      <td>1620.10</td>\n",
       "      <td>1.1039</td>\n",
       "      <td>21468.38</td>\n",
       "      <td>22595.06</td>\n",
       "      <td>21427.10</td>\n",
       "      <td>22552.17</td>\n",
       "      <td>NaN</td>\n",
       "      <td>NaN</td>\n",
       "      <td>NaN</td>\n",
       "      <td>NaN</td>\n",
       "      <td>NaN</td>\n",
       "    </tr>\n",
       "    <tr>\n",
       "      <th>2020-03-25</th>\n",
       "      <td>1620.95</td>\n",
       "      <td>1.0880</td>\n",
       "      <td>21050.34</td>\n",
       "      <td>22019.93</td>\n",
       "      <td>20538.34</td>\n",
       "      <td>21200.55</td>\n",
       "      <td>NaN</td>\n",
       "      <td>NaN</td>\n",
       "      <td>NaN</td>\n",
       "      <td>NaN</td>\n",
       "      <td>NaN</td>\n",
       "    </tr>\n",
       "    <tr>\n",
       "      <th>2020-03-24</th>\n",
       "      <td>1599.50</td>\n",
       "      <td>1.0810</td>\n",
       "      <td>19722.19</td>\n",
       "      <td>20737.70</td>\n",
       "      <td>19649.25</td>\n",
       "      <td>20704.91</td>\n",
       "      <td>NaN</td>\n",
       "      <td>NaN</td>\n",
       "      <td>NaN</td>\n",
       "      <td>NaN</td>\n",
       "      <td>NaN</td>\n",
       "    </tr>\n",
       "    <tr>\n",
       "      <th>2020-03-23</th>\n",
       "      <td>1494.50</td>\n",
       "      <td>1.0744</td>\n",
       "      <td>19028.36</td>\n",
       "      <td>19121.01</td>\n",
       "      <td>18213.65</td>\n",
       "      <td>18591.93</td>\n",
       "      <td>2.12</td>\n",
       "      <td>2.007</td>\n",
       "      <td>NaN</td>\n",
       "      <td>NaN</td>\n",
       "      <td>NaN</td>\n",
       "    </tr>\n",
       "    <tr>\n",
       "      <th>...</th>\n",
       "      <td>...</td>\n",
       "      <td>...</td>\n",
       "      <td>...</td>\n",
       "      <td>...</td>\n",
       "      <td>...</td>\n",
       "      <td>...</td>\n",
       "      <td>...</td>\n",
       "      <td>...</td>\n",
       "      <td>...</td>\n",
       "      <td>...</td>\n",
       "      <td>...</td>\n",
       "    </tr>\n",
       "    <tr>\n",
       "      <th>1927-07-01</th>\n",
       "      <td>NaN</td>\n",
       "      <td>NaN</td>\n",
       "      <td>NaN</td>\n",
       "      <td>NaN</td>\n",
       "      <td>NaN</td>\n",
       "      <td>NaN</td>\n",
       "      <td>NaN</td>\n",
       "      <td>NaN</td>\n",
       "      <td>NaN</td>\n",
       "      <td>8.52</td>\n",
       "      <td>0.57</td>\n",
       "    </tr>\n",
       "    <tr>\n",
       "      <th>1927-08-01</th>\n",
       "      <td>NaN</td>\n",
       "      <td>NaN</td>\n",
       "      <td>NaN</td>\n",
       "      <td>NaN</td>\n",
       "      <td>NaN</td>\n",
       "      <td>NaN</td>\n",
       "      <td>NaN</td>\n",
       "      <td>NaN</td>\n",
       "      <td>NaN</td>\n",
       "      <td>8.57</td>\n",
       "      <td>0.57</td>\n",
       "    </tr>\n",
       "    <tr>\n",
       "      <th>1927-09-01</th>\n",
       "      <td>NaN</td>\n",
       "      <td>NaN</td>\n",
       "      <td>NaN</td>\n",
       "      <td>NaN</td>\n",
       "      <td>NaN</td>\n",
       "      <td>NaN</td>\n",
       "      <td>NaN</td>\n",
       "      <td>NaN</td>\n",
       "      <td>NaN</td>\n",
       "      <td>8.52</td>\n",
       "      <td>0.57</td>\n",
       "    </tr>\n",
       "    <tr>\n",
       "      <th>1927-10-01</th>\n",
       "      <td>NaN</td>\n",
       "      <td>NaN</td>\n",
       "      <td>NaN</td>\n",
       "      <td>NaN</td>\n",
       "      <td>NaN</td>\n",
       "      <td>NaN</td>\n",
       "      <td>NaN</td>\n",
       "      <td>NaN</td>\n",
       "      <td>NaN</td>\n",
       "      <td>8.47</td>\n",
       "      <td>0.57</td>\n",
       "    </tr>\n",
       "    <tr>\n",
       "      <th>1927-11-01</th>\n",
       "      <td>NaN</td>\n",
       "      <td>NaN</td>\n",
       "      <td>NaN</td>\n",
       "      <td>NaN</td>\n",
       "      <td>NaN</td>\n",
       "      <td>NaN</td>\n",
       "      <td>NaN</td>\n",
       "      <td>NaN</td>\n",
       "      <td>NaN</td>\n",
       "      <td>8.52</td>\n",
       "      <td>0.57</td>\n",
       "    </tr>\n",
       "  </tbody>\n",
       "</table>\n",
       "<p>14436 rows × 11 columns</p>\n",
       "</div>"
      ],
      "text/plain": [
       "               Gold  EU-USD  DJIAOpen  ...  SP  realSil  nomSil\n",
       "Date                                   ...                     \n",
       "2020-03-27  1621.20  1.1167  21898.47  ... NaN      NaN     NaN\n",
       "2020-03-26  1620.10  1.1039  21468.38  ... NaN      NaN     NaN\n",
       "2020-03-25  1620.95  1.0880  21050.34  ... NaN      NaN     NaN\n",
       "2020-03-24  1599.50  1.0810  19722.19  ... NaN      NaN     NaN\n",
       "2020-03-23  1494.50  1.0744  19028.36  ... NaN      NaN     NaN\n",
       "...             ...     ...       ...  ...  ..      ...     ...\n",
       "1927-07-01      NaN     NaN       NaN  ... NaN     8.52    0.57\n",
       "1927-08-01      NaN     NaN       NaN  ... NaN     8.57    0.57\n",
       "1927-09-01      NaN     NaN       NaN  ... NaN     8.52    0.57\n",
       "1927-10-01      NaN     NaN       NaN  ... NaN     8.47    0.57\n",
       "1927-11-01      NaN     NaN       NaN  ... NaN     8.52    0.57\n",
       "\n",
       "[14436 rows x 11 columns]"
      ]
     },
     "execution_count": 39,
     "metadata": {
      "tags": []
     },
     "output_type": "execute_result"
    }
   ],
   "source": [
    "merge"
   ]
  },
  {
   "cell_type": "code",
   "execution_count": 0,
   "metadata": {
    "colab": {},
    "colab_type": "code",
    "id": "rPFa04l_5FYp"
   },
   "outputs": [],
   "source": []
  },
  {
   "cell_type": "code",
   "execution_count": 0,
   "metadata": {
    "colab": {},
    "colab_type": "code",
    "id": "u9noUcyb5FYu"
   },
   "outputs": [],
   "source": [
    "merge.sort_values(by=['Date'],axis=0,ascending=True,inplace=True)"
   ]
  },
  {
   "cell_type": "code",
   "execution_count": 0,
   "metadata": {
    "colab": {
     "base_uri": "https://localhost:8080/",
     "height": 34
    },
    "colab_type": "code",
    "id": "Jlo5uEE_5FYz",
    "outputId": "0d0e81e3-e1c4-4e73-811d-754546a4b3ca"
   },
   "outputs": [
    {
     "data": {
      "text/plain": [
       "7004"
      ]
     },
     "execution_count": 41,
     "metadata": {
      "tags": []
     },
     "output_type": "execute_result"
    }
   ],
   "source": [
    "NaNEU = merge[merge['EU-USD'].isna()]\n",
    "NaNDJIA = merge[merge['DJIAHigh'].isna()]\n",
    "NaNReg = merge[merge['RegAll'].isna()]\n",
    "discard = pd.merge(NaNEU,NaNDJIA,on = 'Date',how = 'inner')\n",
    "discard = pd.merge(NaNReg,discard,on = 'Date',how = 'inner')\n",
    "len(discard)"
   ]
  },
  {
   "cell_type": "code",
   "execution_count": 0,
   "metadata": {
    "colab": {},
    "colab_type": "code",
    "id": "6XMaq4Hs5FY4"
   },
   "outputs": [],
   "source": [
    "merge.drop(discard.index, inplace=True)"
   ]
  },
  {
   "cell_type": "code",
   "execution_count": 0,
   "metadata": {
    "colab": {},
    "colab_type": "code",
    "id": "06jxQDvj5FZI"
   },
   "outputs": [],
   "source": [
    "merge[['RegAll', 'RegConvention']] = merge[['RegAll', 'RegConvention']].fillna(method='ffill')\n",
    "merge[['RegAll', 'RegConvention']] = merge[['RegAll', 'RegConvention']].fillna(method='bfill')\n",
    "merge[['Gold']] = merge[['Gold']].interpolate(method = 'time')\n",
    "merge[['Gold']] = merge[['Gold']].fillna(method = 'bfill')\n",
    "merge[['EU-USD']] = merge[['EU-USD']].interpolate(method = 'time')\n",
    "merge[['EU-USD']] = merge[['EU-USD']].fillna(method = 'bfill')\n",
    "merge[['SP']] = merge[['SP']].interpolate(method = 'time')\n",
    "merge[['SP']] = merge[['SP']].fillna(method = 'bfill')\n",
    "merge[['DJIAOpen']] = merge[['DJIAOpen']].interpolate(method = 'time')\n",
    "merge[['DJIAHigh']] = merge[['DJIAHigh']].interpolate(method = 'time')\n",
    "merge[['DJIALow']] = merge[['DJIALow']].interpolate(method = 'time')\n",
    "merge[['DJIAClose']] = merge[['DJIAClose']].interpolate(method = 'time')\n",
    "merge[['DJIAOpen', 'DJIAHigh', 'DJIALow', 'DJIAClose']] = merge[['DJIAOpen', 'DJIAHigh', 'DJIALow', 'DJIAClose']].fillna(method = 'bfill')\n",
    "merge[['realSil', 'nomSil']] = merge[['realSil', 'nomSil']].interpolate(method = 'time')\n",
    "merge[['realSil', 'nomSil']] = merge[['realSil', 'nomSil']].fillna(method='bfill')"
   ]
  },
  {
   "cell_type": "code",
   "execution_count": 0,
   "metadata": {
    "colab": {},
    "colab_type": "code",
    "id": "cXXXWJdz5FZM"
   },
   "outputs": [],
   "source": [
    "from joblib import dump\n",
    "dump(merge.min(), 'min.joblib')\n",
    "!cp min.joblib \"/content/drive/My Drive/Colab Notebooks/Data\"\n",
    "dump(merge.max(), 'max.joblib')\n",
    "!cp max.joblib \"/content/drive/My Drive/Colab Notebooks/Data\"\n"
   ]
  },
  {
   "cell_type": "markdown",
   "metadata": {
    "colab_type": "raw",
    "id": "vHkg9lUe5FZQ"
   },
   "source": []
  },
  {
   "cell_type": "code",
   "execution_count": 0,
   "metadata": {
    "colab": {
     "base_uri": "https://localhost:8080/",
     "height": 692
    },
    "colab_type": "code",
    "id": "KTY8z4V45FZQ",
    "outputId": "baf1dbcb-d81d-4e75-f365-5f0064112a9c"
   },
   "outputs": [
    {
     "name": "stderr",
     "output_type": "stream",
     "text": [
      "/usr/local/lib/python3.6/dist-packages/statsmodels/tools/_testing.py:19: FutureWarning: pandas.util.testing is deprecated. Use the functions in the public API at pandas.testing instead.\n",
      "  import pandas.util.testing as tm\n"
     ]
    },
    {
     "data": {
      "image/png": "[encoded data removed]",
      "text/plain": [
       "<Figure size 432x288 with 1 Axes>"
      ]
     },
     "metadata": {
      "needs_background": "light",
      "tags": []
     },
     "output_type": "display_data"
    },
    {
     "data": {
      "text/html": [
       "<div>\n",
       "<style scoped>\n",
       "    .dataframe tbody tr th:only-of-type {\n",
       "        vertical-align: middle;\n",
       "    }\n",
       "\n",
       "    .dataframe tbody tr th {\n",
       "        vertical-align: top;\n",
       "    }\n",
       "\n",
       "    .dataframe thead th {\n",
       "        text-align: right;\n",
       "    }\n",
       "</style>\n",
       "<table border=\"1\" class=\"dataframe\">\n",
       "  <thead>\n",
       "    <tr style=\"text-align: right;\">\n",
       "      <th></th>\n",
       "      <th>Gold</th>\n",
       "      <th>EU-USD</th>\n",
       "      <th>DJIAOpen</th>\n",
       "      <th>DJIAHigh</th>\n",
       "      <th>DJIALow</th>\n",
       "      <th>DJIAClose</th>\n",
       "      <th>RegAll</th>\n",
       "      <th>RegConvention</th>\n",
       "      <th>SP</th>\n",
       "      <th>realSil</th>\n",
       "      <th>nomSil</th>\n",
       "    </tr>\n",
       "  </thead>\n",
       "  <tbody>\n",
       "    <tr>\n",
       "      <th>Gold</th>\n",
       "      <td>1.000000</td>\n",
       "      <td>0.406173</td>\n",
       "      <td>0.720984</td>\n",
       "      <td>0.719358</td>\n",
       "      <td>0.722704</td>\n",
       "      <td>0.721244</td>\n",
       "      <td>0.839343</td>\n",
       "      <td>0.830712</td>\n",
       "      <td>-0.510168</td>\n",
       "      <td>0.852845</td>\n",
       "      <td>0.909805</td>\n",
       "    </tr>\n",
       "    <tr>\n",
       "      <th>EU-USD</th>\n",
       "      <td>0.406173</td>\n",
       "      <td>1.000000</td>\n",
       "      <td>-0.021233</td>\n",
       "      <td>-0.022845</td>\n",
       "      <td>-0.019054</td>\n",
       "      <td>-0.020931</td>\n",
       "      <td>0.584472</td>\n",
       "      <td>0.597900</td>\n",
       "      <td>-0.646007</td>\n",
       "      <td>0.561409</td>\n",
       "      <td>0.515912</td>\n",
       "    </tr>\n",
       "    <tr>\n",
       "      <th>DJIAOpen</th>\n",
       "      <td>0.720984</td>\n",
       "      <td>-0.021233</td>\n",
       "      <td>1.000000</td>\n",
       "      <td>0.999902</td>\n",
       "      <td>0.999873</td>\n",
       "      <td>0.999827</td>\n",
       "      <td>0.596212</td>\n",
       "      <td>0.577199</td>\n",
       "      <td>0.047971</td>\n",
       "      <td>0.402086</td>\n",
       "      <td>0.519402</td>\n",
       "    </tr>\n",
       "    <tr>\n",
       "      <th>DJIAHigh</th>\n",
       "      <td>0.719358</td>\n",
       "      <td>-0.022845</td>\n",
       "      <td>0.999902</td>\n",
       "      <td>1.000000</td>\n",
       "      <td>0.999783</td>\n",
       "      <td>0.999888</td>\n",
       "      <td>0.595579</td>\n",
       "      <td>0.576561</td>\n",
       "      <td>0.052051</td>\n",
       "      <td>0.400488</td>\n",
       "      <td>0.517889</td>\n",
       "    </tr>\n",
       "    <tr>\n",
       "      <th>DJIALow</th>\n",
       "      <td>0.722704</td>\n",
       "      <td>-0.019054</td>\n",
       "      <td>0.999873</td>\n",
       "      <td>0.999783</td>\n",
       "      <td>1.000000</td>\n",
       "      <td>0.999893</td>\n",
       "      <td>0.597092</td>\n",
       "      <td>0.578089</td>\n",
       "      <td>0.043869</td>\n",
       "      <td>0.404014</td>\n",
       "      <td>0.521199</td>\n",
       "    </tr>\n",
       "    <tr>\n",
       "      <th>DJIAClose</th>\n",
       "      <td>0.721244</td>\n",
       "      <td>-0.020931</td>\n",
       "      <td>0.999827</td>\n",
       "      <td>0.999888</td>\n",
       "      <td>0.999893</td>\n",
       "      <td>1.000000</td>\n",
       "      <td>0.596269</td>\n",
       "      <td>0.577251</td>\n",
       "      <td>0.047750</td>\n",
       "      <td>0.402411</td>\n",
       "      <td>0.519705</td>\n",
       "    </tr>\n",
       "    <tr>\n",
       "      <th>RegAll</th>\n",
       "      <td>0.839343</td>\n",
       "      <td>0.584472</td>\n",
       "      <td>0.596212</td>\n",
       "      <td>0.595579</td>\n",
       "      <td>0.597092</td>\n",
       "      <td>0.596269</td>\n",
       "      <td>1.000000</td>\n",
       "      <td>0.999533</td>\n",
       "      <td>-0.392907</td>\n",
       "      <td>0.824621</td>\n",
       "      <td>0.860841</td>\n",
       "    </tr>\n",
       "    <tr>\n",
       "      <th>RegConvention</th>\n",
       "      <td>0.830712</td>\n",
       "      <td>0.597900</td>\n",
       "      <td>0.577199</td>\n",
       "      <td>0.576561</td>\n",
       "      <td>0.578089</td>\n",
       "      <td>0.577251</td>\n",
       "      <td>0.999533</td>\n",
       "      <td>1.000000</td>\n",
       "      <td>-0.398629</td>\n",
       "      <td>0.826316</td>\n",
       "      <td>0.859372</td>\n",
       "    </tr>\n",
       "    <tr>\n",
       "      <th>SP</th>\n",
       "      <td>-0.510168</td>\n",
       "      <td>-0.646007</td>\n",
       "      <td>0.047971</td>\n",
       "      <td>0.052051</td>\n",
       "      <td>0.043869</td>\n",
       "      <td>0.047750</td>\n",
       "      <td>-0.392907</td>\n",
       "      <td>-0.398629</td>\n",
       "      <td>1.000000</td>\n",
       "      <td>-0.507213</td>\n",
       "      <td>-0.480100</td>\n",
       "    </tr>\n",
       "    <tr>\n",
       "      <th>realSil</th>\n",
       "      <td>0.852845</td>\n",
       "      <td>0.561409</td>\n",
       "      <td>0.402086</td>\n",
       "      <td>0.400488</td>\n",
       "      <td>0.404014</td>\n",
       "      <td>0.402411</td>\n",
       "      <td>0.824621</td>\n",
       "      <td>0.826316</td>\n",
       "      <td>-0.507213</td>\n",
       "      <td>1.000000</td>\n",
       "      <td>0.989901</td>\n",
       "    </tr>\n",
       "    <tr>\n",
       "      <th>nomSil</th>\n",
       "      <td>0.909805</td>\n",
       "      <td>0.515912</td>\n",
       "      <td>0.519402</td>\n",
       "      <td>0.517889</td>\n",
       "      <td>0.521199</td>\n",
       "      <td>0.519705</td>\n",
       "      <td>0.860841</td>\n",
       "      <td>0.859372</td>\n",
       "      <td>-0.480100</td>\n",
       "      <td>0.989901</td>\n",
       "      <td>1.000000</td>\n",
       "    </tr>\n",
       "  </tbody>\n",
       "</table>\n",
       "</div>"
      ],
      "text/plain": [
       "                   Gold    EU-USD  DJIAOpen  ...        SP   realSil    nomSil\n",
       "Gold           1.000000  0.406173  0.720984  ... -0.510168  0.852845  0.909805\n",
       "EU-USD         0.406173  1.000000 -0.021233  ... -0.646007  0.561409  0.515912\n",
       "DJIAOpen       0.720984 -0.021233  1.000000  ...  0.047971  0.402086  0.519402\n",
       "DJIAHigh       0.719358 -0.022845  0.999902  ...  0.052051  0.400488  0.517889\n",
       "DJIALow        0.722704 -0.019054  0.999873  ...  0.043869  0.404014  0.521199\n",
       "DJIAClose      0.721244 -0.020931  0.999827  ...  0.047750  0.402411  0.519705\n",
       "RegAll         0.839343  0.584472  0.596212  ... -0.392907  0.824621  0.860841\n",
       "RegConvention  0.830712  0.597900  0.577199  ... -0.398629  0.826316  0.859372\n",
       "SP            -0.510168 -0.646007  0.047971  ...  1.000000 -0.507213 -0.480100\n",
       "realSil        0.852845  0.561409  0.402086  ... -0.507213  1.000000  0.989901\n",
       "nomSil         0.909805  0.515912  0.519402  ... -0.480100  0.989901  1.000000\n",
       "\n",
       "[11 rows x 11 columns]"
      ]
     },
     "execution_count": 14,
     "metadata": {
      "tags": []
     },
     "output_type": "execute_result"
    }
   ],
   "source": [
    "import seaborn as sns\n",
    "scaler = preprocessing.MinMaxScaler()\n",
    "scaled_Data = scaler.fit_transform(merge)\n",
    "scaled_Data = pd.DataFrame(scaled_Data, columns = ['Gold','EU-USD','DJIAOpen', 'DJIAHigh', 'DJIALow', 'DJIAClose','RegAll','RegConvention','SP','realSil','nomSil'])\n",
    "sns.kdeplot(scaled_Data['Gold'])\n",
    "#sns.kdeplot(scaled_Data['USD-BHD'])\n",
    "#sns.kdeplot(scaled_Data['DJIAOpen'])\n",
    "#sns.kdeplot(scaled_Data['DJIAHigh'])\n",
    "#sns.kdeplot(scaled_Data['DJIALow'])\n",
    "sns.kdeplot(scaled_Data['DJIAClose'])\n",
    "sns.kdeplot(scaled_Data['RegAll'])\n",
    "sns.kdeplot(scaled_Data['EU-USD'])\n",
    "sns.kdeplot(scaled_Data['SP'])\n",
    "sns.kdeplot(scaled_Data['realSil'])\n",
    "#sns.kdeplot(scaled_Data['RegConvention'])\n",
    "plt.show()\n",
    "scaled_Data\n",
    "scaled_Data.corr(method = 'pearson')"
   ]
  },
  {
   "cell_type": "code",
   "execution_count": 0,
   "metadata": {
    "colab": {},
    "colab_type": "code",
    "id": "Y_7ebOXP5FZb"
   },
   "outputs": [],
   "source": [
    "y = scaled_Data.iloc[10:,0]\n",
    "X = scaled_Data.iloc[:-10,1:]\n",
    "from sklearn.model_selection import train_test_split\n",
    "X_train, X_test, y_train, y_test = train_test_split(X, y, random_state = 42, test_size = 0.2)\n",
    "from sklearn.linear_model import LinearRegression\n",
    "from sklearn import model_selection\n",
    "from sklearn.linear_model import LassoCV\n",
    "from sklearn.svm import SVR\n",
    "from sklearn.ensemble import GradientBoostingRegressor\n",
    "linearM = LinearRegression()\n",
    "lassoM = LassoCV(eps = 0.005)\n",
    "svrPolyM = SVR(kernel='poly')\n",
    "gradientM = GradientBoostingRegressor()\n",
    "kfold = model_selection.KFold(n_splits=10, random_state = 420, shuffle=True)\n",
    "linearScore = model_selection.cross_val_score(linearM, X_train, y_train, cv = kfold)\n",
    "lassoScore = model_selection.cross_val_score(lassoM, X_train, y_train, cv = kfold)\n",
    "svrPolyScore = model_selection.cross_val_score(svrPolyM, X_train, y_train, cv = kfold)\n",
    "gradientScore = model_selection.cross_val_score(gradientM, X_train, y_train, cv = kfold)\n"
   ]
  },
  {
   "cell_type": "code",
   "execution_count": 0,
   "metadata": {
    "colab": {
     "base_uri": "https://localhost:8080/",
     "height": 102
    },
    "colab_type": "code",
    "id": "M4uKpEAM5FaB",
    "outputId": "972071c0-1192-48fb-f248-43592f624aee"
   },
   "outputs": [
    {
     "name": "stdout",
     "output_type": "stream",
     "text": [
      "----------Score----------\n",
      "Linear Regression : Avg. 0.9771725055256194 S.D. 0.0009428447725601733\n",
      "Lasso Regression : Avg. 0.966218225767242 S.D. 0.001432106876967422\n",
      "SVR Polynomial Regression : Avg. 0.9479688773161277 S.D. 0.0028009753146205486\n",
      "Gradient Boosting Regression : Avg. 0.9964222925179268 S.D. 0.0004722961841050269\n"
     ]
    }
   ],
   "source": [
    "print(\"----------Score----------\")\n",
    "print(\"Linear Regression : Avg.\",linearScore.mean(), \"S.D.\",linearScore.std())\n",
    "print(\"Lasso Regression : Avg.\",lassoScore.mean(),\"S.D.\", lassoScore.std())\n",
    "print(\"SVR Polynomial Regression : Avg.\",svrPolyScore.mean(),\"S.D.\", svrPolyScore.std())\n",
    "print(\"Gradient Boosting Regression : Avg.\",gradientScore.mean(),\"S.D.\", gradientScore.std())"
   ]
  },
  {
   "cell_type": "code",
   "execution_count": 0,
   "metadata": {
    "colab": {
     "base_uri": "https://localhost:8080/",
     "height": 170
    },
    "colab_type": "code",
    "id": "zxFSXTZv5FaM",
    "outputId": "23d8bf6a-92d4-43a4-cc51-f7eab70340bf"
   },
   "outputs": [
    {
     "data": {
      "text/plain": [
       "GradientBoostingRegressor(alpha=0.9, ccp_alpha=0.0, criterion='friedman_mse',\n",
       "                          init=None, learning_rate=0.1, loss='ls', max_depth=3,\n",
       "                          max_features=None, max_leaf_nodes=None,\n",
       "                          min_impurity_decrease=0.0, min_impurity_split=None,\n",
       "                          min_samples_leaf=1, min_samples_split=2,\n",
       "                          min_weight_fraction_leaf=0.0, n_estimators=100,\n",
       "                          n_iter_no_change=None, presort='deprecated',\n",
       "                          random_state=None, subsample=1.0, tol=0.0001,\n",
       "                          validation_fraction=0.1, verbose=0, warm_start=False)"
      ]
     },
     "execution_count": 17,
     "metadata": {
      "tags": []
     },
     "output_type": "execute_result"
    }
   ],
   "source": [
    "linearM.fit(X_train, y_train)\n",
    "lassoM.fit(X_train, y_train)\n",
    "svrPolyM.fit(X_train, y_train)\n",
    "gradientM.fit(X_train, y_train)"
   ]
  },
  {
   "cell_type": "code",
   "execution_count": 0,
   "metadata": {
    "colab": {},
    "colab_type": "code",
    "id": "L6GwnMxA5Fac"
   },
   "outputs": [],
   "source": [
    "linearTest = linearM.predict(X_test)\n",
    "lassoTest = lassoM.predict(X_test)\n",
    "svrPolyTest = svrPolyM.predict(X_test)\n",
    "gradientTest = gradientM.predict(X_test)"
   ]
  },
  {
   "cell_type": "code",
   "execution_count": 0,
   "metadata": {
    "colab": {
     "base_uri": "https://localhost:8080/",
     "height": 221
    },
    "colab_type": "code",
    "id": "JfdV3zcf5Fam",
    "outputId": "383960fb-f212-43ef-f3eb-0b2ef720e01c"
   },
   "outputs": [
    {
     "name": "stdout",
     "output_type": "stream",
     "text": [
      "Linear Regression\n",
      "RMSE :  0.0018043322217902006\n",
      "R^2 Score :  0.9790702691578239\n",
      "Lasso Regression\n",
      "RMSE :  0.0025957430490076276\n",
      "R^2 Score :  0.9698901329283603\n",
      "SVR Polynomial Regression\n",
      "RMSE :  0.004377942551849736\n",
      "R^2 Score :  0.9492171352114894\n",
      "Gradient Boosting Regression\n",
      "RMSE :  0.00025618329335897036\n",
      "R^2 Score :  0.9970283480439397\n"
     ]
    }
   ],
   "source": [
    "from sklearn import metrics\n",
    "print('Linear Regression')\n",
    "print(\"RMSE : \",metrics.mean_squared_error(y_test, linearTest))\n",
    "print(\"R^2 Score : \",metrics.r2_score(y_test, linearTest))\n",
    "print('Lasso Regression')\n",
    "print(\"RMSE : \",metrics.mean_squared_error(y_test, lassoTest))\n",
    "print(\"R^2 Score : \",metrics.r2_score(y_test, lassoTest))\n",
    "print('SVR Polynomial Regression')\n",
    "print(\"RMSE : \",metrics.mean_squared_error(y_test, svrPolyTest))\n",
    "print(\"R^2 Score : \",metrics.r2_score(y_test, svrPolyTest))\n",
    "print('Gradient Boosting Regression')\n",
    "print(\"RMSE : \",metrics.mean_squared_error(y_test, gradientTest))\n",
    "print(\"R^2 Score : \",metrics.r2_score(y_test, gradientTest))"
   ]
  },
  {
   "cell_type": "code",
   "execution_count": 0,
   "metadata": {
    "colab": {
     "base_uri": "https://localhost:8080/",
     "height": 442
    },
    "colab_type": "code",
    "id": "oClg5A9_5Fas",
    "outputId": "400507fe-7f32-483c-fbc2-7aa39ff89d68"
   },
   "outputs": [
    {
     "data": {
      "text/plain": [
       "GridSearchCV(cv=KFold(n_splits=10, random_state=420, shuffle=True),\n",
       "             error_score=nan,\n",
       "             estimator=GradientBoostingRegressor(alpha=0.9, ccp_alpha=0.0,\n",
       "                                                 criterion='friedman_mse',\n",
       "                                                 init=None, learning_rate=0.1,\n",
       "                                                 loss='ls', max_depth=3,\n",
       "                                                 max_features=None,\n",
       "                                                 max_leaf_nodes=None,\n",
       "                                                 min_impurity_decrease=0.0,\n",
       "                                                 min_impurity_split=None,\n",
       "                                                 min_samples_leaf=1,\n",
       "                                                 min_samples_split=2,\n",
       "                                                 min_wei...\n",
       "                                                 presort='deprecated',\n",
       "                                                 random_state=None,\n",
       "                                                 subsample=1.0, tol=0.0001,\n",
       "                                                 validation_fraction=0.1,\n",
       "                                                 verbose=0, warm_start=False),\n",
       "             iid='deprecated', n_jobs=None,\n",
       "             param_grid=[{'learning_rate': [1e-06, 0.0001, 0.001, 0.1],\n",
       "                          'max_depth': [1, 3, 5, 10, 20],\n",
       "                          'n_estimators': [1, 10, 100, 1000],\n",
       "                          'subsample': [1e-05, 0.01, 0.1]}],\n",
       "             pre_dispatch='2*n_jobs', refit=True, return_train_score=False,\n",
       "             scoring=None, verbose=0)"
      ]
     },
     "execution_count": 20,
     "metadata": {
      "tags": []
     },
     "output_type": "execute_result"
    }
   ],
   "source": [
    "from sklearn.model_selection import GridSearchCV\n",
    "learnRate = [0.000001,0.0001,0.001, 0.1]\n",
    "nEstimate = [1, 10 ,100, 1000]\n",
    "subSamp = [0.00001,0.01, 0.1]\n",
    "mxDepth = [1,3,5,10,20]\n",
    "gridParam = [{'learning_rate' : learnRate, \n",
    "               'n_estimators' : nEstimate,\n",
    "               'subsample' : subSamp, \n",
    "               'max_depth' : mxDepth},\n",
    "              ]\n",
    "grid = model_selection.GridSearchCV(GradientBoostingRegressor(), gridParam, cv = kfold)\n",
    "grid.fit(X_train, y_train)\n"
   ]
  },
  {
   "cell_type": "code",
   "execution_count": 0,
   "metadata": {
    "colab": {
     "base_uri": "https://localhost:8080/",
     "height": 34
    },
    "colab_type": "code",
    "id": "JmeeXcq25Fay",
    "outputId": "ead8b4ba-e892-431f-9fb5-78e2489487d4"
   },
   "outputs": [
    {
     "data": {
      "text/plain": [
       "{'learning_rate': 0.1, 'max_depth': 20, 'n_estimators': 1000, 'subsample': 0.1}"
      ]
     },
     "execution_count": 21,
     "metadata": {
      "tags": []
     },
     "output_type": "execute_result"
    }
   ],
   "source": [
    "grid.best_params_"
   ]
  },
  {
   "cell_type": "code",
   "execution_count": 0,
   "metadata": {
    "colab": {
     "base_uri": "https://localhost:8080/",
     "height": 34
    },
    "colab_type": "code",
    "id": "WfZ_TaTB5Fa3",
    "outputId": "57e232bb-71e0-47df-eb04-6cf8f641b893"
   },
   "outputs": [
    {
     "data": {
      "text/plain": [
       "0.9992579525019101"
      ]
     },
     "execution_count": 22,
     "metadata": {
      "tags": []
     },
     "output_type": "execute_result"
    }
   ],
   "source": [
    "grid.best_score_"
   ]
  },
  {
   "cell_type": "code",
   "execution_count": 0,
   "metadata": {
    "colab": {},
    "colab_type": "code",
    "id": "BkVeC8k_5Fa6"
   },
   "outputs": [],
   "source": [
    "gridPred = grid.predict(X_test)"
   ]
  },
  {
   "cell_type": "code",
   "execution_count": 0,
   "metadata": {
    "colab": {
     "base_uri": "https://localhost:8080/",
     "height": 51
    },
    "colab_type": "code",
    "id": "HjfH6hmy5Fa9",
    "outputId": "bb85a6b9-12fd-47af-ec80-58ed9e9793c7"
   },
   "outputs": [
    {
     "name": "stdout",
     "output_type": "stream",
     "text": [
      "RMSE :  0.007201163279280774\n",
      "R^2 Score :  0.9993984766992277\n"
     ]
    }
   ],
   "source": [
    "print('RMSE : ',np.sqrt(metrics.mean_squared_error(y_test, gridPred)))\n",
    "print('R^2 Score : ',metrics.r2_score(y_test, gridPred))"
   ]
  },
  {
   "cell_type": "code",
   "execution_count": 0,
   "metadata": {
    "colab": {
     "base_uri": "https://localhost:8080/",
     "height": 68
    },
    "colab_type": "code",
    "id": "2YBcQWFV5FbB",
    "outputId": "118d91d6-ef25-4163-96b4-513fc6c4e5d0"
   },
   "outputs": [
    {
     "name": "stdout",
     "output_type": "stream",
     "text": [
      "RMSE :  0.007201163279280774\n",
      "MAPE :  3.979739949575763\n",
      "R^2 Score :  0.9993984766992277\n"
     ]
    }
   ],
   "source": [
    "def mean_absolute_percentage_error(y_true, y_pred): \n",
    "    #y_true, y_pred = np.array(y_true), np.array(y_pred)\n",
    "    y_true,y_pred = y_true.tolist(),y_pred.tolist()\n",
    "    sum = 0\n",
    "    ctn = 0\n",
    "    mx = 0\n",
    "    for i in range(len(y_true)) :\n",
    "      if y_true[i] != 0 :\n",
    "        #if abs((y_true[i] - y_pred[i]) / y_true[i])*100 > 20:\n",
    "          #mx = abs((y_true[i] - y_pred[i]) / y_true[i])\n",
    "          #print(y_true[i] , y_pred[i])\n",
    "          #print(abs((y_true[i] - y_pred[i]) / y_true[i])*100)\n",
    "        sum += abs((y_true[i] - y_pred[i]) / y_true[i])\n",
    "      else :\n",
    "        ctn =+ 1\n",
    "    #print(mx)\n",
    "    return sum/(len(y_true)-ctn) * 100\n",
    "\n",
    "print('RMSE : ',np.sqrt(metrics.mean_squared_error(y_test, gridPred)))\n",
    "print('MAPE : ',mean_absolute_percentage_error(y_test, gridPred))\n",
    "print('R^2 Score : ',metrics.r2_score(y_test, gridPred))\n"
   ]
  },
  {
   "cell_type": "code",
   "execution_count": 0,
   "metadata": {
    "colab": {},
    "colab_type": "code",
    "id": "aKe7zSkt5FbM"
   },
   "outputs": [],
   "source": [
    "dump(grid, '3p9Percent.joblib')\n",
    "!cp 3p9Percent.joblib \"/content/drive/My Drive/Colab Notebooks/Models\""
   ]
  },
  {
   "cell_type": "code",
   "execution_count": 0,
   "metadata": {
    "colab": {},
    "colab_type": "code",
    "id": "zDqVrPOl5FbQ"
   },
   "outputs": [],
   "source": []
  },
  {
   "cell_type": "code",
   "execution_count": 0,
   "metadata": {
    "colab": {},
    "colab_type": "code",
    "id": "I3964I4R5FbU"
   },
   "outputs": [],
   "source": []
  },
  {
   "cell_type": "code",
   "execution_count": 0,
   "metadata": {
    "colab": {},
    "colab_type": "code",
    "id": "EBuQCU5S5Fbd"
   },
   "outputs": [],
   "source": []
  },
  {
   "cell_type": "code",
   "execution_count": 0,
   "metadata": {
    "colab": {},
    "colab_type": "code",
    "id": "96LB8H755Fbi"
   },
   "outputs": [],
   "source": []
  }
 ],
 "metadata": {
  "colab": {
   "collapsed_sections": [],
   "name": "bestModel.ipynb",
   "provenance": []
  },
  "kernelspec": {
   "display_name": "Python 3",
   "language": "python",
   "name": "python3"
  },
  "language_info": {
   "codemirror_mode": {
    "name": "ipython",
    "version": 3
   },
   "file_extension": ".py",
   "mimetype": "text/x-python",
   "name": "python",
   "nbconvert_exporter": "python",
   "pygments_lexer": "ipython3",
   "version": "3.7.4"
  }
 },
 "nbformat": 4,
 "nbformat_minor": 1
}
